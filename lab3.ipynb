{
 "cells": [
  {
   "cell_type": "code",
   "execution_count": 15,
   "metadata": {},
   "outputs": [],
   "source": [
    "import matplotlib.pyplot as plt\n",
    "import numpy as np\n",
    "import seaborn as sns\n",
    "import pandas as pd\n",
    "from sklearn.model_selection import train_test_split\n",
    "import torch\n",
    "import torch.nn as nn"
   ]
  },
  {
   "cell_type": "markdown",
   "metadata": {},
   "source": [
    "## Preprocessing"
   ]
  },
  {
   "cell_type": "code",
   "execution_count": 16,
   "metadata": {},
   "outputs": [
    {
     "name": "stdout",
     "output_type": "stream",
     "text": [
      "<class 'pandas.core.frame.DataFrame'>\n",
      "RangeIndex: 1599 entries, 0 to 1598\n",
      "Data columns (total 12 columns):\n",
      " #   Column                Non-Null Count  Dtype  \n",
      "---  ------                --------------  -----  \n",
      " 0   fixed acidity         1599 non-null   float64\n",
      " 1   volatile acidity      1599 non-null   float64\n",
      " 2   citric acid           1599 non-null   float64\n",
      " 3   residual sugar        1599 non-null   float64\n",
      " 4   chlorides             1599 non-null   float64\n",
      " 5   free sulfur dioxide   1599 non-null   float64\n",
      " 6   total sulfur dioxide  1599 non-null   float64\n",
      " 7   density               1599 non-null   float64\n",
      " 8   pH                    1599 non-null   float64\n",
      " 9   sulphates             1599 non-null   float64\n",
      " 10  alcohol               1599 non-null   float64\n",
      " 11  quality               1599 non-null   object \n",
      "dtypes: float64(11), object(1)\n",
      "memory usage: 150.0+ KB\n"
     ]
    },
    {
     "name": "stderr",
     "output_type": "stream",
     "text": [
      "<>:1: SyntaxWarning: invalid escape sequence '\\w'\n",
      "<>:1: SyntaxWarning: invalid escape sequence '\\w'\n",
      "C:\\Users\\balko\\AppData\\Local\\Temp\\ipykernel_12260\\3075757770.py:1: SyntaxWarning: invalid escape sequence '\\w'\n",
      "  df = pd.read_csv('dataset\\wine.csv')\n"
     ]
    }
   ],
   "source": [
    "df = pd.read_csv('dataset\\wine.csv')\n",
    "df.info()"
   ]
  },
  {
   "cell_type": "code",
   "execution_count": 17,
   "metadata": {},
   "outputs": [
    {
     "data": {
      "text/html": [
       "<div>\n",
       "<style scoped>\n",
       "    .dataframe tbody tr th:only-of-type {\n",
       "        vertical-align: middle;\n",
       "    }\n",
       "\n",
       "    .dataframe tbody tr th {\n",
       "        vertical-align: top;\n",
       "    }\n",
       "\n",
       "    .dataframe thead th {\n",
       "        text-align: right;\n",
       "    }\n",
       "</style>\n",
       "<table border=\"1\" class=\"dataframe\">\n",
       "  <thead>\n",
       "    <tr style=\"text-align: right;\">\n",
       "      <th></th>\n",
       "      <th>fixed acidity</th>\n",
       "      <th>volatile acidity</th>\n",
       "      <th>citric acid</th>\n",
       "      <th>residual sugar</th>\n",
       "      <th>chlorides</th>\n",
       "      <th>free sulfur dioxide</th>\n",
       "      <th>total sulfur dioxide</th>\n",
       "      <th>density</th>\n",
       "      <th>pH</th>\n",
       "      <th>sulphates</th>\n",
       "      <th>alcohol</th>\n",
       "    </tr>\n",
       "  </thead>\n",
       "  <tbody>\n",
       "    <tr>\n",
       "      <th>count</th>\n",
       "      <td>1599.000000</td>\n",
       "      <td>1599.000000</td>\n",
       "      <td>1599.000000</td>\n",
       "      <td>1599.000000</td>\n",
       "      <td>1599.000000</td>\n",
       "      <td>1599.000000</td>\n",
       "      <td>1599.000000</td>\n",
       "      <td>1599.000000</td>\n",
       "      <td>1599.000000</td>\n",
       "      <td>1599.000000</td>\n",
       "      <td>1599.000000</td>\n",
       "    </tr>\n",
       "    <tr>\n",
       "      <th>mean</th>\n",
       "      <td>8.319637</td>\n",
       "      <td>0.527821</td>\n",
       "      <td>0.270976</td>\n",
       "      <td>2.538806</td>\n",
       "      <td>0.087467</td>\n",
       "      <td>15.874922</td>\n",
       "      <td>46.467792</td>\n",
       "      <td>0.996747</td>\n",
       "      <td>3.311113</td>\n",
       "      <td>0.658149</td>\n",
       "      <td>10.422983</td>\n",
       "    </tr>\n",
       "    <tr>\n",
       "      <th>std</th>\n",
       "      <td>1.741096</td>\n",
       "      <td>0.179060</td>\n",
       "      <td>0.194801</td>\n",
       "      <td>1.409928</td>\n",
       "      <td>0.047065</td>\n",
       "      <td>10.460157</td>\n",
       "      <td>32.895324</td>\n",
       "      <td>0.001887</td>\n",
       "      <td>0.154386</td>\n",
       "      <td>0.169507</td>\n",
       "      <td>1.065668</td>\n",
       "    </tr>\n",
       "    <tr>\n",
       "      <th>min</th>\n",
       "      <td>4.600000</td>\n",
       "      <td>0.120000</td>\n",
       "      <td>0.000000</td>\n",
       "      <td>0.900000</td>\n",
       "      <td>0.012000</td>\n",
       "      <td>1.000000</td>\n",
       "      <td>6.000000</td>\n",
       "      <td>0.990070</td>\n",
       "      <td>2.740000</td>\n",
       "      <td>0.330000</td>\n",
       "      <td>8.400000</td>\n",
       "    </tr>\n",
       "    <tr>\n",
       "      <th>25%</th>\n",
       "      <td>7.100000</td>\n",
       "      <td>0.390000</td>\n",
       "      <td>0.090000</td>\n",
       "      <td>1.900000</td>\n",
       "      <td>0.070000</td>\n",
       "      <td>7.000000</td>\n",
       "      <td>22.000000</td>\n",
       "      <td>0.995600</td>\n",
       "      <td>3.210000</td>\n",
       "      <td>0.550000</td>\n",
       "      <td>9.500000</td>\n",
       "    </tr>\n",
       "    <tr>\n",
       "      <th>50%</th>\n",
       "      <td>7.900000</td>\n",
       "      <td>0.520000</td>\n",
       "      <td>0.260000</td>\n",
       "      <td>2.200000</td>\n",
       "      <td>0.079000</td>\n",
       "      <td>14.000000</td>\n",
       "      <td>38.000000</td>\n",
       "      <td>0.996750</td>\n",
       "      <td>3.310000</td>\n",
       "      <td>0.620000</td>\n",
       "      <td>10.200000</td>\n",
       "    </tr>\n",
       "    <tr>\n",
       "      <th>75%</th>\n",
       "      <td>9.200000</td>\n",
       "      <td>0.640000</td>\n",
       "      <td>0.420000</td>\n",
       "      <td>2.600000</td>\n",
       "      <td>0.090000</td>\n",
       "      <td>21.000000</td>\n",
       "      <td>62.000000</td>\n",
       "      <td>0.997835</td>\n",
       "      <td>3.400000</td>\n",
       "      <td>0.730000</td>\n",
       "      <td>11.100000</td>\n",
       "    </tr>\n",
       "    <tr>\n",
       "      <th>max</th>\n",
       "      <td>15.900000</td>\n",
       "      <td>1.580000</td>\n",
       "      <td>1.000000</td>\n",
       "      <td>15.500000</td>\n",
       "      <td>0.611000</td>\n",
       "      <td>72.000000</td>\n",
       "      <td>289.000000</td>\n",
       "      <td>1.003690</td>\n",
       "      <td>4.010000</td>\n",
       "      <td>2.000000</td>\n",
       "      <td>14.900000</td>\n",
       "    </tr>\n",
       "  </tbody>\n",
       "</table>\n",
       "</div>"
      ],
      "text/plain": [
       "       fixed acidity  volatile acidity  citric acid  residual sugar  \\\n",
       "count    1599.000000       1599.000000  1599.000000     1599.000000   \n",
       "mean        8.319637          0.527821     0.270976        2.538806   \n",
       "std         1.741096          0.179060     0.194801        1.409928   \n",
       "min         4.600000          0.120000     0.000000        0.900000   \n",
       "25%         7.100000          0.390000     0.090000        1.900000   \n",
       "50%         7.900000          0.520000     0.260000        2.200000   \n",
       "75%         9.200000          0.640000     0.420000        2.600000   \n",
       "max        15.900000          1.580000     1.000000       15.500000   \n",
       "\n",
       "         chlorides  free sulfur dioxide  total sulfur dioxide      density  \\\n",
       "count  1599.000000          1599.000000           1599.000000  1599.000000   \n",
       "mean      0.087467            15.874922             46.467792     0.996747   \n",
       "std       0.047065            10.460157             32.895324     0.001887   \n",
       "min       0.012000             1.000000              6.000000     0.990070   \n",
       "25%       0.070000             7.000000             22.000000     0.995600   \n",
       "50%       0.079000            14.000000             38.000000     0.996750   \n",
       "75%       0.090000            21.000000             62.000000     0.997835   \n",
       "max       0.611000            72.000000            289.000000     1.003690   \n",
       "\n",
       "                pH    sulphates      alcohol  \n",
       "count  1599.000000  1599.000000  1599.000000  \n",
       "mean      3.311113     0.658149    10.422983  \n",
       "std       0.154386     0.169507     1.065668  \n",
       "min       2.740000     0.330000     8.400000  \n",
       "25%       3.210000     0.550000     9.500000  \n",
       "50%       3.310000     0.620000    10.200000  \n",
       "75%       3.400000     0.730000    11.100000  \n",
       "max       4.010000     2.000000    14.900000  "
      ]
     },
     "execution_count": 17,
     "metadata": {},
     "output_type": "execute_result"
    }
   ],
   "source": [
    "df.describe()"
   ]
  },
  {
   "cell_type": "code",
   "execution_count": 18,
   "metadata": {},
   "outputs": [
    {
     "data": {
      "text/plain": [
       "<Axes: xlabel='quality', ylabel='Count'>"
      ]
     },
     "execution_count": 18,
     "metadata": {},
     "output_type": "execute_result"
    },
    {
     "data": {
      "image/png": "[encoded data removed]",
      "text/plain": [
       "<Figure size 640x480 with 1 Axes>"
      ]
     },
     "metadata": {},
     "output_type": "display_data"
    }
   ],
   "source": [
    "sns.histplot(df, x=\"quality\")"
   ]
  },
  {
   "cell_type": "code",
   "execution_count": 19,
   "metadata": {},
   "outputs": [
    {
     "data": {
      "text/plain": [
       "quality\n",
       "1    0.534709\n",
       "0    0.465291\n",
       "Name: proportion, dtype: float64"
      ]
     },
     "execution_count": 19,
     "metadata": {},
     "output_type": "execute_result"
    }
   ],
   "source": [
    "df['quality'] = df['quality'].map({\"bad\":0,\"good\":1})\n",
    "df['quality'].value_counts(normalize=True)"
   ]
  },
  {
   "cell_type": "code",
   "execution_count": 20,
   "metadata": {},
   "outputs": [],
   "source": [
    "X = torch.from_numpy(df.drop('quality', axis=1).to_numpy()).to(torch.float32)\n",
    "y = torch.from_numpy(df['quality'].to_numpy()).to(torch.float32)\n",
    "X_train, X_valid, y_train, y_valid = train_test_split(X,y, test_size=0.2, random_state=4)"
   ]
  },
  {
   "cell_type": "code",
   "execution_count": 21,
   "metadata": {},
   "outputs": [
    {
     "name": "stdout",
     "output_type": "stream",
     "text": [
      "Train: torch.Size([1279, 11]), valid: 320\n"
     ]
    }
   ],
   "source": [
    "print(f\"Train: {X_train.shape}, valid: {X_valid.shape[0]}\")"
   ]
  },
  {
   "cell_type": "code",
   "execution_count": 22,
   "metadata": {},
   "outputs": [
    {
     "data": {
      "text/plain": [
       "tensor([0., 1., 0.,  ..., 0., 0., 1.])"
      ]
     },
     "execution_count": 22,
     "metadata": {},
     "output_type": "execute_result"
    }
   ],
   "source": [
    "y_train"
   ]
  },
  {
   "cell_type": "code",
   "execution_count": 23,
   "metadata": {},
   "outputs": [],
   "source": [
    "BATCH_SIZE=X_train.shape[0]\n",
    "\n",
    "train_dataset = torch.utils.data.TensorDataset(X_train, y_train)\n",
    "train_loader = torch.utils.data.DataLoader(train_dataset, batch_size=BATCH_SIZE, shuffle=True)\n",
    "\n",
    "valid_dataset = torch.utils.data.TensorDataset(X_valid, y_valid)\n",
    "valid_loader = torch.utils.data.DataLoader(valid_dataset, batch_size=BATCH_SIZE, shuffle=False)"
   ]
  },
  {
   "cell_type": "markdown",
   "metadata": {},
   "source": [
    "## Model"
   ]
  },
  {
   "cell_type": "code",
   "execution_count": 40,
   "metadata": {},
   "outputs": [],
   "source": [
    "class MyModel(torch.nn.Module):\n",
    "\n",
    "    def __init__(self, input_size, output_size, hidden_layers, activations):\n",
    "        super(MyModel, self).__init__()\n",
    "        self.layers = []\n",
    "        for i in range(len(hidden_layers)):\n",
    "            if i == 0:\n",
    "                self.layers.append(torch.nn.Linear(input_size, hidden_layers[i]))\n",
    "            else:\n",
    "                self.layers.append(torch.nn.Linear(hidden_layers[i-1], hidden_layers[i]))\n",
    "            self.layers.append(activations[i])\n",
    "\n",
    "        self.layers.append(torch.nn.Linear(hidden_layers[-1], output_size))\n",
    "        self.layers.append(torch.nn.Sigmoid())\n",
    "        self.model = torch.nn.Sequential(*self.layers)\n",
    "    def forward(self, x):\n",
    "        x = self.model(x)\n",
    "        return x.squeeze()\n",
    "\n",
    "mymodel = MyModel(X_train.shape[1],1,[64,32], [torch.nn.ReLU(), torch.nn.ReLU()])"
   ]
  },
  {
   "cell_type": "code",
   "execution_count": 41,
   "metadata": {},
   "outputs": [
    {
     "name": "stdout",
     "output_type": "stream",
     "text": [
      "MyModel(\n",
      "  (model): Sequential(\n",
      "    (0): Linear(in_features=11, out_features=64, bias=True)\n",
      "    (1): ReLU()\n",
      "    (2): Linear(in_features=64, out_features=32, bias=True)\n",
      "    (3): ReLU()\n",
      "    (4): Linear(in_features=32, out_features=1, bias=True)\n",
      "    (5): Sigmoid()\n",
      "  )\n",
      ")\n"
     ]
    }
   ],
   "source": [
    "print(mymodel)"
   ]
  },
  {
   "cell_type": "code",
   "execution_count": 42,
   "metadata": {},
   "outputs": [
    {
     "name": "stdout",
     "output_type": "stream",
     "text": [
      "\n",
      "\n",
      "Linear Layer 2 params:\n",
      "Parameter containing:\n",
      "tensor([[-0.0468, -0.2929, -0.0189, -0.0818,  0.0288,  0.2531, -0.2481,  0.0901,\n",
      "         -0.0150,  0.2457,  0.2546],\n",
      "        [ 0.0540,  0.2363,  0.0787,  0.1815,  0.0608,  0.1973,  0.1304, -0.2241,\n",
      "          0.1886,  0.0903, -0.2419],\n",
      "        [-0.1359, -0.2902, -0.0297, -0.0238,  0.1030, -0.0758,  0.0397,  0.0464,\n",
      "         -0.2548, -0.2975,  0.2847],\n",
      "        [ 0.0239,  0.2020, -0.2599, -0.2370, -0.0147,  0.2004, -0.2502,  0.0043,\n",
      "         -0.0941, -0.1638,  0.2756],\n",
      "        [ 0.2607, -0.2651,  0.0011,  0.1761, -0.1104,  0.2713, -0.1544,  0.2429,\n",
      "          0.1484, -0.1944,  0.2590],\n",
      "        [-0.1751, -0.2364,  0.0532,  0.2377, -0.0132, -0.2886, -0.0645, -0.0226,\n",
      "         -0.1139, -0.0123,  0.0233],\n",
      "        [ 0.0486, -0.2817,  0.1070,  0.1842,  0.2965,  0.2499,  0.1090, -0.0018,\n",
      "         -0.0614,  0.2146,  0.2008],\n",
      "        [ 0.3014, -0.0490,  0.0064, -0.2612, -0.1755, -0.1327,  0.0794, -0.2591,\n",
      "          0.1906,  0.0215,  0.1840],\n",
      "        [-0.1847, -0.1314, -0.0209,  0.0792, -0.0830,  0.1282, -0.1696,  0.0590,\n",
      "         -0.1286,  0.1406, -0.2201],\n",
      "        [-0.1795,  0.1519, -0.1691,  0.0924, -0.2974, -0.0779,  0.0100,  0.1193,\n",
      "         -0.1957,  0.0119, -0.0615],\n",
      "        [ 0.1473,  0.1942,  0.1033, -0.0155, -0.1316,  0.0518,  0.2455,  0.0933,\n",
      "         -0.1553,  0.1129, -0.1448],\n",
      "        [ 0.1171,  0.0530,  0.1013,  0.1913,  0.2460, -0.1962,  0.1483,  0.2174,\n",
      "         -0.1002,  0.0298, -0.0828],\n",
      "        [-0.0802,  0.2331, -0.0242,  0.0344,  0.2924,  0.2024, -0.1831,  0.2308,\n",
      "         -0.1611,  0.2489, -0.2987],\n",
      "        [ 0.2994, -0.2098,  0.1802,  0.2996, -0.0302,  0.0048, -0.0984, -0.0824,\n",
      "          0.0734, -0.1572,  0.2598],\n",
      "        [-0.2068, -0.0687,  0.0706, -0.1045, -0.2477, -0.0699, -0.0735,  0.1289,\n",
      "          0.0331,  0.1391,  0.1754],\n",
      "        [ 0.0137, -0.2013, -0.0875,  0.2960, -0.3006,  0.0084,  0.0380, -0.0886,\n",
      "         -0.0860, -0.0026,  0.1171],\n",
      "        [-0.1840,  0.1028,  0.1313, -0.0802, -0.1043, -0.2017, -0.1181,  0.0042,\n",
      "          0.0950, -0.0570, -0.1591],\n",
      "        [-0.0338,  0.0031,  0.2174, -0.2971, -0.1866,  0.1802,  0.0903,  0.2228,\n",
      "          0.1938, -0.1126,  0.1117],\n",
      "        [ 0.0133,  0.1438,  0.0539, -0.0997,  0.2174, -0.0325,  0.1173, -0.0557,\n",
      "          0.0209, -0.0268, -0.1374],\n",
      "        [ 0.2871,  0.1782,  0.0894,  0.1057,  0.1681,  0.2696,  0.0364,  0.0857,\n",
      "          0.2032, -0.0905, -0.2618],\n",
      "        [-0.1139, -0.0783, -0.1693, -0.2696, -0.2431, -0.1486,  0.1399,  0.1952,\n",
      "          0.2686, -0.1392, -0.2231],\n",
      "        [ 0.0601,  0.1748, -0.0835,  0.0044, -0.2746,  0.2238,  0.2561,  0.2359,\n",
      "         -0.2077,  0.0515, -0.0129],\n",
      "        [ 0.1673, -0.0372, -0.2677, -0.0430, -0.0565, -0.1370,  0.2582,  0.0088,\n",
      "         -0.2691, -0.0082,  0.0409],\n",
      "        [ 0.1451, -0.1125, -0.2580,  0.1005, -0.2288, -0.1608,  0.0185, -0.1146,\n",
      "          0.1564,  0.1331, -0.1376],\n",
      "        [ 0.2221,  0.2639,  0.0070,  0.1963,  0.0547, -0.1781, -0.1841,  0.2065,\n",
      "          0.2173, -0.1690, -0.0607],\n",
      "        [ 0.0202, -0.0865,  0.0746, -0.2717, -0.1503, -0.1485, -0.0706,  0.2795,\n",
      "          0.2853, -0.1766,  0.2643],\n",
      "        [-0.1625,  0.1783,  0.1051,  0.0030, -0.0525,  0.1080,  0.2372,  0.0842,\n",
      "          0.0374, -0.1621,  0.1141],\n",
      "        [-0.0304,  0.0008,  0.2595,  0.2091,  0.0732, -0.0033, -0.1921,  0.1271,\n",
      "          0.0140,  0.2483, -0.2128],\n",
      "        [ 0.1272,  0.1150, -0.0651, -0.1802, -0.1691,  0.2079, -0.1862, -0.2668,\n",
      "         -0.2775, -0.2889,  0.1264],\n",
      "        [ 0.0596,  0.2812,  0.0316, -0.2943, -0.1951, -0.1691,  0.1381,  0.0280,\n",
      "          0.1719,  0.0913, -0.1019],\n",
      "        [-0.0637,  0.0769, -0.1178, -0.2712,  0.0313,  0.2371, -0.2691, -0.1409,\n",
      "         -0.0277, -0.2574, -0.1080],\n",
      "        [-0.0137, -0.1807, -0.0795, -0.2104, -0.2700, -0.2245,  0.2678, -0.2745,\n",
      "          0.2106, -0.1260,  0.0999],\n",
      "        [-0.1188, -0.1825, -0.2463, -0.1532,  0.2962,  0.1842,  0.0546,  0.2632,\n",
      "         -0.2252,  0.0248,  0.1022],\n",
      "        [-0.0023, -0.2632,  0.2167, -0.1848, -0.2547,  0.1398, -0.0598,  0.0828,\n",
      "          0.2690,  0.1276,  0.0205],\n",
      "        [ 0.2094,  0.0934, -0.2593, -0.1844,  0.2912, -0.1229,  0.0563, -0.1854,\n",
      "          0.1328,  0.2841, -0.0216],\n",
      "        [-0.0108, -0.0217,  0.1395,  0.0539,  0.0945,  0.0714, -0.0213, -0.1356,\n",
      "         -0.2119, -0.1001,  0.0328],\n",
      "        [-0.0303,  0.2795, -0.2633,  0.0162,  0.0733, -0.2444, -0.2363,  0.1315,\n",
      "          0.1896, -0.0822,  0.2414],\n",
      "        [ 0.0121,  0.1263, -0.1736,  0.2256,  0.1567, -0.2448, -0.0009,  0.3008,\n",
      "          0.2520, -0.1871,  0.0560],\n",
      "        [ 0.0206, -0.2307,  0.0681, -0.0669, -0.2071, -0.2220,  0.0257, -0.1252,\n",
      "         -0.2541, -0.0187,  0.0168],\n",
      "        [-0.1179,  0.1237,  0.2562,  0.0221, -0.1971, -0.1495,  0.1318,  0.2351,\n",
      "          0.1512, -0.0371, -0.2207],\n",
      "        [-0.0729, -0.2687, -0.1957,  0.1578,  0.3004, -0.2926, -0.2770, -0.0827,\n",
      "          0.1575, -0.2966, -0.2410],\n",
      "        [ 0.1436,  0.1040,  0.2374, -0.1907,  0.2612, -0.2742,  0.1080, -0.0861,\n",
      "          0.2920,  0.2531, -0.1436],\n",
      "        [ 0.2108,  0.2300,  0.0231,  0.1833, -0.0692, -0.1581, -0.0930,  0.1227,\n",
      "          0.0221, -0.0292, -0.2112],\n",
      "        [ 0.2152,  0.1100,  0.1533,  0.0169, -0.1277, -0.2192, -0.2942, -0.2248,\n",
      "         -0.0664,  0.2623, -0.2006],\n",
      "        [-0.0475,  0.1435,  0.1591, -0.0043,  0.2696,  0.1337,  0.0671,  0.2823,\n",
      "          0.0616, -0.1975,  0.0578],\n",
      "        [-0.0112,  0.1932, -0.2920,  0.0975, -0.0496,  0.0624,  0.1547,  0.0065,\n",
      "         -0.2098,  0.1323, -0.2296],\n",
      "        [ 0.1551,  0.1199,  0.2786, -0.1951,  0.1782,  0.1850, -0.2557, -0.1645,\n",
      "          0.1493, -0.1836,  0.1829],\n",
      "        [-0.2395,  0.1459,  0.1389,  0.2605, -0.1558, -0.0630, -0.1075,  0.2085,\n",
      "          0.1562,  0.1797, -0.1272],\n",
      "        [-0.1165, -0.2073,  0.0979, -0.2780, -0.0558,  0.2764, -0.1774, -0.0979,\n",
      "         -0.0890,  0.2802, -0.0013],\n",
      "        [-0.0557,  0.0073, -0.0241, -0.0066,  0.0511,  0.2789,  0.1099,  0.2445,\n",
      "          0.0798,  0.2256,  0.1974],\n",
      "        [ 0.2923, -0.2060, -0.2309, -0.1040,  0.1846,  0.0984,  0.1706, -0.2556,\n",
      "         -0.1047,  0.2680,  0.2213],\n",
      "        [-0.1514,  0.0989, -0.0482,  0.2442, -0.1242,  0.0851, -0.0675, -0.0031,\n",
      "         -0.2090,  0.1703,  0.2584],\n",
      "        [-0.0723, -0.1364,  0.2503, -0.1231, -0.2307, -0.0219, -0.1427, -0.0199,\n",
      "          0.2514,  0.2977,  0.0219],\n",
      "        [ 0.0956,  0.0064, -0.2133, -0.1341,  0.2557,  0.2563,  0.0972,  0.0566,\n",
      "          0.0311,  0.1522, -0.0272],\n",
      "        [ 0.0047,  0.0849,  0.1060, -0.0899, -0.2519, -0.0229, -0.1468, -0.0466,\n",
      "          0.2356,  0.2573,  0.0938],\n",
      "        [-0.0270,  0.1054,  0.0270, -0.2805, -0.2454,  0.2258,  0.1004, -0.2136,\n",
      "          0.2737,  0.0173,  0.0280],\n",
      "        [ 0.1124,  0.0791, -0.1741,  0.0681,  0.2069, -0.0891, -0.2283,  0.1347,\n",
      "          0.0197, -0.2591,  0.0842],\n",
      "        [-0.1798, -0.1603,  0.1513,  0.1090,  0.0555, -0.0955, -0.0750,  0.0248,\n",
      "         -0.1558,  0.0905, -0.2825],\n",
      "        [-0.2403,  0.0047,  0.2250, -0.0872, -0.2422,  0.1549,  0.0694, -0.1402,\n",
      "          0.0783,  0.0163,  0.0774],\n",
      "        [-0.2079,  0.0571, -0.1363,  0.0043,  0.2857, -0.2007, -0.2667,  0.0073,\n",
      "          0.1753, -0.0462,  0.1066],\n",
      "        [-0.2810, -0.2912,  0.1667,  0.1377, -0.1606,  0.2312, -0.1342,  0.0625,\n",
      "         -0.1971, -0.0056,  0.0409],\n",
      "        [ 0.1918, -0.1102, -0.2531,  0.2676,  0.0355, -0.2518, -0.0706,  0.0986,\n",
      "         -0.1027, -0.2565,  0.0231],\n",
      "        [ 0.1162, -0.2151, -0.2582,  0.2093, -0.1681, -0.2136, -0.2638, -0.1295,\n",
      "         -0.1566, -0.1731,  0.2671],\n",
      "        [-0.2150, -0.2925,  0.1625, -0.0375,  0.2254, -0.1782, -0.1313,  0.1162,\n",
      "         -0.1603,  0.2152, -0.1141]], requires_grad=True)\n",
      "Parameter containing:\n",
      "tensor([ 0.0546, -0.1030,  0.1679,  0.2932, -0.0772,  0.2773,  0.1070,  0.0515,\n",
      "        -0.0347, -0.1543,  0.1922,  0.0505, -0.2631, -0.1505, -0.2663,  0.2334,\n",
      "         0.2055, -0.0397,  0.0059, -0.2502,  0.3007, -0.1270, -0.0280, -0.1470,\n",
      "         0.0110, -0.1850,  0.0147, -0.2935, -0.0470, -0.0843, -0.2241,  0.0403,\n",
      "        -0.0625,  0.0228,  0.0632,  0.0396,  0.1165, -0.1838, -0.1114,  0.1793,\n",
      "         0.0105,  0.2273, -0.2631, -0.2462, -0.2479, -0.1983,  0.0039, -0.1047,\n",
      "        -0.1637, -0.2684,  0.2327,  0.1707,  0.2011, -0.0877, -0.2766, -0.1273,\n",
      "         0.2506,  0.0357, -0.0794, -0.0929, -0.1893,  0.2950,  0.2691, -0.1712],\n",
      "       requires_grad=True)\n"
     ]
    }
   ],
   "source": [
    "print('\\n\\nLinear Layer 2 params:')\n",
    "for param in mymodel.layers[0].parameters():\n",
    "    print(param)"
   ]
  },
  {
   "cell_type": "markdown",
   "metadata": {},
   "source": [
    "In PyTorch, the nn.Linear module's weights are initialized by default using a method \"He initialization."
   ]
  },
  {
   "cell_type": "code",
   "execution_count": 43,
   "metadata": {},
   "outputs": [
    {
     "name": "stdout",
     "output_type": "stream",
     "text": [
      "Epoch 0: train_loss = 0.7073542475700378, valid_loss= 1.648095726966858, accuracy= 49.6875\n",
      "Epoch 100: train_loss = 0.6354469656944275, valid_loss= 0.6551097631454468, accuracy= 63.125\n",
      "Epoch 200: train_loss = 0.6295725703239441, valid_loss= 0.650008499622345, accuracy= 63.4375\n",
      "Epoch 300: train_loss = 0.6278838515281677, valid_loss= 0.6488434076309204, accuracy= 63.4375\n",
      "Epoch 400: train_loss = 0.6254889369010925, valid_loss= 0.6481658220291138, accuracy= 62.81250000000001\n",
      "Epoch 500: train_loss = 0.6303005814552307, valid_loss= 0.6457942724227905, accuracy= 63.125\n",
      "Epoch 600: train_loss = 0.6148650050163269, valid_loss= 0.640773594379425, accuracy= 64.0625\n",
      "Epoch 700: train_loss = 0.6158975958824158, valid_loss= 0.6581809520721436, accuracy= 62.5\n",
      "Epoch 800: train_loss = 0.6140666604042053, valid_loss= 0.6420590877532959, accuracy= 63.4375\n",
      "Epoch 900: train_loss = 0.6138697862625122, valid_loss= 0.6304930448532104, accuracy= 64.0625\n",
      "Epoch 1000: train_loss = 0.6112934350967407, valid_loss= 0.6357795596122742, accuracy= 64.375\n"
     ]
    }
   ],
   "source": [
    "NUM_EPOCH = 1001\n",
    "\n",
    "loss_fn = nn.BCELoss()\n",
    "optimizer = torch.optim.SGD(mymodel.parameters(), lr=0.1)\n",
    "\n",
    "train_loss_list = []\n",
    "valid_loss_list = []\n",
    "accuracy_list = []\n",
    "\n",
    "min_valid_loss = np.inf\n",
    "\n",
    "for epoch in range(NUM_EPOCH):\n",
    "    train_loss = 0.0\n",
    "    mymodel.train()\n",
    "    for inputs, labels in train_loader:\n",
    "        optimizer.zero_grad()\n",
    "        pred = mymodel(inputs)\n",
    "\n",
    "        loss = loss_fn(pred,labels)\n",
    "        loss.backward()\n",
    "        optimizer.step()\n",
    "        train_loss += loss.item()\n",
    "    \n",
    "    train_loss_list.append(train_loss/len(train_loader))\n",
    "\n",
    "    mymodel.eval()\n",
    "    valid_loss, correct = 0, 0\n",
    "    size = len(valid_loader.dataset)\n",
    "    with torch.no_grad():\n",
    "        for inputs, labels in valid_loader:\n",
    "            pred = mymodel(inputs)\n",
    "            loss = loss_fn(pred,labels)\n",
    "            valid_loss += loss.item()\n",
    "            binary_pred = (pred >= 0.5).float()\n",
    "            correct += (binary_pred==labels).sum().item()\n",
    "        correct /= size\n",
    "        valid_loss/=len(valid_loader)\n",
    "        accuracy_list.append(correct)\n",
    "        valid_loss_list.append(valid_loss)\n",
    "\n",
    "\n",
    "    if epoch % 100 == 0:\n",
    "        print(f\"Epoch {epoch}: train_loss = {train_loss_list[epoch]}, valid_loss= {valid_loss_list[epoch]}, accuracy= {correct*100}\")\n",
    "\n",
    "   \n",
    "    \n"
   ]
  },
  {
   "cell_type": "code",
   "execution_count": 44,
   "metadata": {},
   "outputs": [
    {
     "data": {
      "text/plain": [
       "<Axes: >"
      ]
     },
     "execution_count": 44,
     "metadata": {},
     "output_type": "execute_result"
    },
    {
     "data": {
      "image/png": "[encoded data removed]",
      "text/plain": [
       "<Figure size 640x480 with 1 Axes>"
      ]
     },
     "metadata": {},
     "output_type": "display_data"
    }
   ],
   "source": [
    "sns.lineplot(train_loss_list)\n",
    "sns.lineplot(valid_loss_list)"
   ]
  },
  {
   "cell_type": "markdown",
   "metadata": {},
   "source": [
    "Lets try to improve model "
   ]
  },
  {
   "cell_type": "code",
   "execution_count": 47,
   "metadata": {},
   "outputs": [],
   "source": [
    "class MyModel2(torch.nn.Module):\n",
    "    def __init__(self, input_size, output_size, hidden_sizes, activations, dropout_rate):\n",
    "        super(MyModel2, self).__init__()\n",
    "        layers = []\n",
    "        for i in range(len(hidden_sizes)):\n",
    "            if i == 0:\n",
    "                layers.append(torch.nn.Linear(input_size, hidden_sizes[i]))\n",
    "            else:\n",
    "                layers.append(torch.nn.Linear(hidden_sizes[i-1], hidden_sizes[i]))\n",
    "            layers.append(nn.LayerNorm(hidden_sizes[i]))\n",
    "            layers.append(activations[i])\n",
    "            layers.append(nn.Dropout(dropout_rate[i]))\n",
    "\n",
    "        # Add the output layer\n",
    "        layers.append(torch.nn.Linear(hidden_sizes[-1], output_size))\n",
    "        layers.append(torch.nn.Sigmoid())\n",
    "\n",
    "        # Create the sequential module\n",
    "        self.model = torch.nn.Sequential(*layers)\n",
    "\n",
    "    def forward(self, x):\n",
    "        x = self.model(x)\n",
    "        return x.squeeze()\n",
    "\n",
    "hidden_sizes = [512, 256, 64]\n",
    "activations = [nn.SiLU() for _ in range(len(hidden_sizes))]\n",
    "dropout_rate = [0.5 for _ in range(len(hidden_sizes))]\n",
    "\n",
    "model2 = MyModel2(11,1,hidden_sizes, activations, dropout_rate)\n"
   ]
  },
  {
   "cell_type": "code",
   "execution_count": 49,
   "metadata": {},
   "outputs": [
    {
     "name": "stdout",
     "output_type": "stream",
     "text": [
      "MyModel2(\n",
      "  (model): Sequential(\n",
      "    (0): Linear(in_features=11, out_features=512, bias=True)\n",
      "    (1): LayerNorm((512,), eps=1e-05, elementwise_affine=True)\n",
      "    (2): SiLU()\n",
      "    (3): Dropout(p=0.5, inplace=False)\n",
      "    (4): Linear(in_features=512, out_features=256, bias=True)\n",
      "    (5): LayerNorm((256,), eps=1e-05, elementwise_affine=True)\n",
      "    (6): SiLU()\n",
      "    (7): Dropout(p=0.5, inplace=False)\n",
      "    (8): Linear(in_features=256, out_features=64, bias=True)\n",
      "    (9): LayerNorm((64,), eps=1e-05, elementwise_affine=True)\n",
      "    (10): SiLU()\n",
      "    (11): Dropout(p=0.5, inplace=False)\n",
      "    (12): Linear(in_features=64, out_features=1, bias=True)\n",
      "    (13): Sigmoid()\n",
      "  )\n",
      ")\n"
     ]
    }
   ],
   "source": [
    "print(model2)"
   ]
  },
  {
   "cell_type": "code",
   "execution_count": 50,
   "metadata": {},
   "outputs": [
    {
     "name": "stdout",
     "output_type": "stream",
     "text": [
      "Epoch 0: train_loss = 0.7244287729263306, valid_loss= 0.7297075986862183, accuracy= 50.31250000000001\n",
      "Epoch 100: train_loss = 0.6578783988952637, valid_loss= 0.6496275663375854, accuracy= 63.125\n",
      "Epoch 200: train_loss = 0.6496586203575134, valid_loss= 0.6467707753181458, accuracy= 63.125\n",
      "Epoch 300: train_loss = 0.6481963992118835, valid_loss= 0.6451225280761719, accuracy= 63.4375\n",
      "Epoch 400: train_loss = 0.6409396529197693, valid_loss= 0.6452909111976624, accuracy= 63.4375\n",
      "Epoch 500: train_loss = 0.643517017364502, valid_loss= 0.6427110433578491, accuracy= 63.4375\n",
      "Epoch 600: train_loss = 0.6405513286590576, valid_loss= 0.6407368779182434, accuracy= 63.74999999999999\n",
      "Epoch 700: train_loss = 0.6391772031784058, valid_loss= 0.6386175751686096, accuracy= 63.125\n",
      "Epoch 800: train_loss = 0.6317360997200012, valid_loss= 0.6346420049667358, accuracy= 63.125\n",
      "Epoch 900: train_loss = 0.6304225921630859, valid_loss= 0.6239259839057922, accuracy= 65.0\n",
      "Epoch 1000: train_loss = 0.6270045042037964, valid_loss= 0.6094156503677368, accuracy= 67.5\n",
      "Epoch 1100: train_loss = 0.6119372248649597, valid_loss= 0.5859903693199158, accuracy= 68.125\n",
      "Epoch 1200: train_loss = 0.6007956266403198, valid_loss= 0.5681949853897095, accuracy= 68.4375\n",
      "Epoch 1300: train_loss = 0.6267346739768982, valid_loss= 0.5746060609817505, accuracy= 70.3125\n",
      "Epoch 1400: train_loss = 0.6108636260032654, valid_loss= 0.5785521864891052, accuracy= 70.3125\n",
      "Epoch 1500: train_loss = 0.5651482343673706, valid_loss= 0.5477641820907593, accuracy= 71.25\n",
      "Epoch 1600: train_loss = 0.6321797966957092, valid_loss= 0.555255651473999, accuracy= 70.0\n",
      "Epoch 1700: train_loss = 0.5901305675506592, valid_loss= 0.5668402314186096, accuracy= 70.9375\n",
      "Epoch 1800: train_loss = 0.6143481731414795, valid_loss= 0.5616090297698975, accuracy= 70.625\n",
      "Epoch 1900: train_loss = 0.5913721323013306, valid_loss= 0.5671849250793457, accuracy= 69.0625\n",
      "Epoch 2000: train_loss = 0.657558262348175, valid_loss= 0.6371661424636841, accuracy= 61.875\n"
     ]
    }
   ],
   "source": [
    "NUM_EPOCH = 2001\n",
    "\n",
    "loss_fn = nn.BCELoss()\n",
    "optimizer = torch.optim.SGD(model2.parameters(), lr=0.1, momentum=0.7)\n",
    "\n",
    "train_loss_list = []\n",
    "valid_loss_list = []\n",
    "accuracy_list = []\n",
    "\n",
    "min_valid_loss = np.inf\n",
    "\n",
    "for epoch in range(NUM_EPOCH):\n",
    "    train_loss = 0.0\n",
    "    model2.train()\n",
    "    for inputs, labels in train_loader:\n",
    "        optimizer.zero_grad()\n",
    "        pred = model2(inputs)\n",
    "\n",
    "        loss = loss_fn(pred,labels)\n",
    "        loss.backward()\n",
    "        optimizer.step()\n",
    "        train_loss += loss.item()\n",
    "    \n",
    "    train_loss_list.append(train_loss/len(train_loader))\n",
    "\n",
    "    model2.eval()\n",
    "    valid_loss, correct = 0, 0\n",
    "    size = len(valid_loader.dataset)\n",
    "    with torch.no_grad():\n",
    "        for inputs, labels in valid_loader:\n",
    "            pred = model2(inputs)\n",
    "            loss = loss_fn(pred,labels)\n",
    "            valid_loss += loss.item()\n",
    "            binary_pred = (pred >= 0.5).float()\n",
    "            correct += (binary_pred==labels).sum().item()\n",
    "\n",
    "        correct /= size\n",
    "        valid_loss/=len(valid_loader)\n",
    "\n",
    "        accuracy_list.append(correct)\n",
    "        valid_loss_list.append(valid_loss)\n",
    "\n",
    "        if valid_loss < min_valid_loss:\n",
    "            min_valid_loss = valid_loss\n",
    "            best_model = model2\n",
    "            torch.save(model2, 'model/best-model.pt')\n",
    "            torch.save(model2.state_dict(), 'model/best-model-parameters.pt')\n",
    "    if epoch % 100 == 0:\n",
    "        print(f\"Epoch {epoch}: train_loss = {train_loss_list[epoch]}, valid_loss= {valid_loss_list[epoch]}, accuracy= {correct*100}\")\n",
    "\n"
   ]
  },
  {
   "cell_type": "code",
   "execution_count": 51,
   "metadata": {},
   "outputs": [
    {
     "data": {
      "text/plain": [
       "<matplotlib.legend.Legend at 0x1c3e1823ec0>"
      ]
     },
     "execution_count": 51,
     "metadata": {},
     "output_type": "execute_result"
    },
    {
     "data": {
      "image/png": "[encoded data removed]",
      "text/plain": [
       "<Figure size 640x480 with 1 Axes>"
      ]
     },
     "metadata": {},
     "output_type": "display_data"
    }
   ],
   "source": [
    "sns.lineplot(train_loss_list, label=\"train\")\n",
    "sns.lineplot(valid_loss_list, label=\"valid\")\n",
    "plt.legend()"
   ]
  },
  {
   "cell_type": "code",
   "execution_count": 53,
   "metadata": {},
   "outputs": [
    {
     "name": "stdout",
     "output_type": "stream",
     "text": [
      "Accuracy: 0.737500011920929, f1_score: 0.7324841022491455\n"
     ]
    }
   ],
   "source": [
    "from torchmetrics.classification import BinaryAccuracy, BinaryF1Score\n",
    "\n",
    "best_model = MyModel2(11,1,hidden_sizes, activations, dropout_rate)\n",
    "best_model.load_state_dict(torch.load('model/best-model-parameters.pt'))\n",
    "best_model.eval()\n",
    "with torch.no_grad():\n",
    "    pred = best_model(X_valid)\n",
    "\n",
    "# Convert pred to a float tensor\n",
    "pred = (pred > 0.5).to(torch.float)\n",
    "\n",
    "# Calculate accuracy\n",
    "accuracy = BinaryAccuracy()\n",
    "f1_score = BinaryF1Score()\n",
    "print(f\"Accuracy: {accuracy(pred, y_valid)}, f1_score: {f1_score(pred, y_valid)}\")"
   ]
  },
  {
   "cell_type": "markdown",
   "metadata": {},
   "source": [
    "**Conclusions**: My model achieved an accuracy of 73,75%, wich is not so good. Maybe we need more data or more comlexity model. Compared to ml algorithms for this dataset, my model gives almost the same results"
   ]
  }
 ],
 "metadata": {
  "kernelspec": {
   "display_name": "Python 3",
   "language": "python",
   "name": "python3"
  },
  "language_info": {
   "codemirror_mode": {
    "name": "ipython",
    "version": 3
   },
   "file_extension": ".py",
   "mimetype": "text/x-python",
   "name": "python",
   "nbconvert_exporter": "python",
   "pygments_lexer": "ipython3",
   "version": "3.12.0"
  }
 },
 "nbformat": 4,
 "nbformat_minor": 2
}
