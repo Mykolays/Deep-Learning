{
 "cells": [
  {
   "cell_type": "code",
   "execution_count": 1,
   "metadata": {},
   "outputs": [],
   "source": [
    "import matplotlib.pyplot as plt\n",
    "import numpy as np\n",
    "import seaborn as sns\n",
    "import pandas as pd\n",
    "from sklearn.model_selection import train_test_split\n",
    "import torch\n",
    "import torch.nn as nn"
   ]
  },
  {
   "cell_type": "markdown",
   "metadata": {},
   "source": [
    "## Preprocessing"
   ]
  },
  {
   "cell_type": "code",
   "execution_count": 2,
   "metadata": {},
   "outputs": [
    {
     "name": "stdout",
     "output_type": "stream",
     "text": [
      "<class 'pandas.core.frame.DataFrame'>\n",
      "RangeIndex: 1599 entries, 0 to 1598\n",
      "Data columns (total 12 columns):\n",
      " #   Column                Non-Null Count  Dtype  \n",
      "---  ------                --------------  -----  \n",
      " 0   fixed acidity         1599 non-null   float64\n",
      " 1   volatile acidity      1599 non-null   float64\n",
      " 2   citric acid           1599 non-null   float64\n",
      " 3   residual sugar        1599 non-null   float64\n",
      " 4   chlorides             1599 non-null   float64\n",
      " 5   free sulfur dioxide   1599 non-null   float64\n",
      " 6   total sulfur dioxide  1599 non-null   float64\n",
      " 7   density               1599 non-null   float64\n",
      " 8   pH                    1599 non-null   float64\n",
      " 9   sulphates             1599 non-null   float64\n",
      " 10  alcohol               1599 non-null   float64\n",
      " 11  quality               1599 non-null   object \n",
      "dtypes: float64(11), object(1)\n",
      "memory usage: 150.0+ KB\n"
     ]
    },
    {
     "name": "stderr",
     "output_type": "stream",
     "text": [
      "<>:1: SyntaxWarning: invalid escape sequence '\\w'\n",
      "<>:1: SyntaxWarning: invalid escape sequence '\\w'\n",
      "C:\\Users\\balko\\AppData\\Local\\Temp\\ipykernel_2708\\3075757770.py:1: SyntaxWarning: invalid escape sequence '\\w'\n",
      "  df = pd.read_csv('dataset\\wine.csv')\n"
     ]
    }
   ],
   "source": [
    "df = pd.read_csv('dataset\\wine.csv')\n",
    "df.info()"
   ]
  },
  {
   "cell_type": "code",
   "execution_count": 3,
   "metadata": {},
   "outputs": [
    {
     "data": {
      "text/html": [
       "<div>\n",
       "<style scoped>\n",
       "    .dataframe tbody tr th:only-of-type {\n",
       "        vertical-align: middle;\n",
       "    }\n",
       "\n",
       "    .dataframe tbody tr th {\n",
       "        vertical-align: top;\n",
       "    }\n",
       "\n",
       "    .dataframe thead th {\n",
       "        text-align: right;\n",
       "    }\n",
       "</style>\n",
       "<table border=\"1\" class=\"dataframe\">\n",
       "  <thead>\n",
       "    <tr style=\"text-align: right;\">\n",
       "      <th></th>\n",
       "      <th>fixed acidity</th>\n",
       "      <th>volatile acidity</th>\n",
       "      <th>citric acid</th>\n",
       "      <th>residual sugar</th>\n",
       "      <th>chlorides</th>\n",
       "      <th>free sulfur dioxide</th>\n",
       "      <th>total sulfur dioxide</th>\n",
       "      <th>density</th>\n",
       "      <th>pH</th>\n",
       "      <th>sulphates</th>\n",
       "      <th>alcohol</th>\n",
       "    </tr>\n",
       "  </thead>\n",
       "  <tbody>\n",
       "    <tr>\n",
       "      <th>count</th>\n",
       "      <td>1599.000000</td>\n",
       "      <td>1599.000000</td>\n",
       "      <td>1599.000000</td>\n",
       "      <td>1599.000000</td>\n",
       "      <td>1599.000000</td>\n",
       "      <td>1599.000000</td>\n",
       "      <td>1599.000000</td>\n",
       "      <td>1599.000000</td>\n",
       "      <td>1599.000000</td>\n",
       "      <td>1599.000000</td>\n",
       "      <td>1599.000000</td>\n",
       "    </tr>\n",
       "    <tr>\n",
       "      <th>mean</th>\n",
       "      <td>8.319637</td>\n",
       "      <td>0.527821</td>\n",
       "      <td>0.270976</td>\n",
       "      <td>2.538806</td>\n",
       "      <td>0.087467</td>\n",
       "      <td>15.874922</td>\n",
       "      <td>46.467792</td>\n",
       "      <td>0.996747</td>\n",
       "      <td>3.311113</td>\n",
       "      <td>0.658149</td>\n",
       "      <td>10.422983</td>\n",
       "    </tr>\n",
       "    <tr>\n",
       "      <th>std</th>\n",
       "      <td>1.741096</td>\n",
       "      <td>0.179060</td>\n",
       "      <td>0.194801</td>\n",
       "      <td>1.409928</td>\n",
       "      <td>0.047065</td>\n",
       "      <td>10.460157</td>\n",
       "      <td>32.895324</td>\n",
       "      <td>0.001887</td>\n",
       "      <td>0.154386</td>\n",
       "      <td>0.169507</td>\n",
       "      <td>1.065668</td>\n",
       "    </tr>\n",
       "    <tr>\n",
       "      <th>min</th>\n",
       "      <td>4.600000</td>\n",
       "      <td>0.120000</td>\n",
       "      <td>0.000000</td>\n",
       "      <td>0.900000</td>\n",
       "      <td>0.012000</td>\n",
       "      <td>1.000000</td>\n",
       "      <td>6.000000</td>\n",
       "      <td>0.990070</td>\n",
       "      <td>2.740000</td>\n",
       "      <td>0.330000</td>\n",
       "      <td>8.400000</td>\n",
       "    </tr>\n",
       "    <tr>\n",
       "      <th>25%</th>\n",
       "      <td>7.100000</td>\n",
       "      <td>0.390000</td>\n",
       "      <td>0.090000</td>\n",
       "      <td>1.900000</td>\n",
       "      <td>0.070000</td>\n",
       "      <td>7.000000</td>\n",
       "      <td>22.000000</td>\n",
       "      <td>0.995600</td>\n",
       "      <td>3.210000</td>\n",
       "      <td>0.550000</td>\n",
       "      <td>9.500000</td>\n",
       "    </tr>\n",
       "    <tr>\n",
       "      <th>50%</th>\n",
       "      <td>7.900000</td>\n",
       "      <td>0.520000</td>\n",
       "      <td>0.260000</td>\n",
       "      <td>2.200000</td>\n",
       "      <td>0.079000</td>\n",
       "      <td>14.000000</td>\n",
       "      <td>38.000000</td>\n",
       "      <td>0.996750</td>\n",
       "      <td>3.310000</td>\n",
       "      <td>0.620000</td>\n",
       "      <td>10.200000</td>\n",
       "    </tr>\n",
       "    <tr>\n",
       "      <th>75%</th>\n",
       "      <td>9.200000</td>\n",
       "      <td>0.640000</td>\n",
       "      <td>0.420000</td>\n",
       "      <td>2.600000</td>\n",
       "      <td>0.090000</td>\n",
       "      <td>21.000000</td>\n",
       "      <td>62.000000</td>\n",
       "      <td>0.997835</td>\n",
       "      <td>3.400000</td>\n",
       "      <td>0.730000</td>\n",
       "      <td>11.100000</td>\n",
       "    </tr>\n",
       "    <tr>\n",
       "      <th>max</th>\n",
       "      <td>15.900000</td>\n",
       "      <td>1.580000</td>\n",
       "      <td>1.000000</td>\n",
       "      <td>15.500000</td>\n",
       "      <td>0.611000</td>\n",
       "      <td>72.000000</td>\n",
       "      <td>289.000000</td>\n",
       "      <td>1.003690</td>\n",
       "      <td>4.010000</td>\n",
       "      <td>2.000000</td>\n",
       "      <td>14.900000</td>\n",
       "    </tr>\n",
       "  </tbody>\n",
       "</table>\n",
       "</div>"
      ],
      "text/plain": [
       "       fixed acidity  volatile acidity  citric acid  residual sugar  \\\n",
       "count    1599.000000       1599.000000  1599.000000     1599.000000   \n",
       "mean        8.319637          0.527821     0.270976        2.538806   \n",
       "std         1.741096          0.179060     0.194801        1.409928   \n",
       "min         4.600000          0.120000     0.000000        0.900000   \n",
       "25%         7.100000          0.390000     0.090000        1.900000   \n",
       "50%         7.900000          0.520000     0.260000        2.200000   \n",
       "75%         9.200000          0.640000     0.420000        2.600000   \n",
       "max        15.900000          1.580000     1.000000       15.500000   \n",
       "\n",
       "         chlorides  free sulfur dioxide  total sulfur dioxide      density  \\\n",
       "count  1599.000000          1599.000000           1599.000000  1599.000000   \n",
       "mean      0.087467            15.874922             46.467792     0.996747   \n",
       "std       0.047065            10.460157             32.895324     0.001887   \n",
       "min       0.012000             1.000000              6.000000     0.990070   \n",
       "25%       0.070000             7.000000             22.000000     0.995600   \n",
       "50%       0.079000            14.000000             38.000000     0.996750   \n",
       "75%       0.090000            21.000000             62.000000     0.997835   \n",
       "max       0.611000            72.000000            289.000000     1.003690   \n",
       "\n",
       "                pH    sulphates      alcohol  \n",
       "count  1599.000000  1599.000000  1599.000000  \n",
       "mean      3.311113     0.658149    10.422983  \n",
       "std       0.154386     0.169507     1.065668  \n",
       "min       2.740000     0.330000     8.400000  \n",
       "25%       3.210000     0.550000     9.500000  \n",
       "50%       3.310000     0.620000    10.200000  \n",
       "75%       3.400000     0.730000    11.100000  \n",
       "max       4.010000     2.000000    14.900000  "
      ]
     },
     "execution_count": 3,
     "metadata": {},
     "output_type": "execute_result"
    }
   ],
   "source": [
    "df.describe()"
   ]
  },
  {
   "cell_type": "code",
   "execution_count": 4,
   "metadata": {},
   "outputs": [
    {
     "data": {
      "text/plain": [
       "<Axes: xlabel='quality', ylabel='Count'>"
      ]
     },
     "execution_count": 4,
     "metadata": {},
     "output_type": "execute_result"
    },
    {
     "data": {
      "image/png": "[encoded data removed]",
      "text/plain": [
       "<Figure size 640x480 with 1 Axes>"
      ]
     },
     "metadata": {},
     "output_type": "display_data"
    }
   ],
   "source": [
    "sns.histplot(df, x=\"quality\")"
   ]
  },
  {
   "cell_type": "code",
   "execution_count": 5,
   "metadata": {},
   "outputs": [
    {
     "data": {
      "text/plain": [
       "quality\n",
       "1    0.534709\n",
       "0    0.465291\n",
       "Name: proportion, dtype: float64"
      ]
     },
     "execution_count": 5,
     "metadata": {},
     "output_type": "execute_result"
    }
   ],
   "source": [
    "df['quality'] = df['quality'].map({\"bad\":0,\"good\":1})\n",
    "df['quality'].value_counts(normalize=True)"
   ]
  },
  {
   "cell_type": "code",
   "execution_count": 6,
   "metadata": {},
   "outputs": [],
   "source": [
    "X = torch.from_numpy(df.drop('quality', axis=1).to_numpy()).to(torch.float32)\n",
    "y = torch.from_numpy(df['quality'].to_numpy()).to(torch.float32)\n",
    "X_train, X_valid, y_train, y_valid = train_test_split(X,y, test_size=0.2, random_state=4)"
   ]
  },
  {
   "cell_type": "code",
   "execution_count": 7,
   "metadata": {},
   "outputs": [
    {
     "name": "stdout",
     "output_type": "stream",
     "text": [
      "Train: torch.Size([1279, 11]), valid: 320\n"
     ]
    }
   ],
   "source": [
    "print(f\"Train: {X_train.shape}, valid: {X_valid.shape[0]}\")"
   ]
  },
  {
   "cell_type": "code",
   "execution_count": 8,
   "metadata": {},
   "outputs": [
    {
     "data": {
      "text/plain": [
       "tensor([0., 1., 0.,  ..., 0., 0., 1.])"
      ]
     },
     "execution_count": 8,
     "metadata": {},
     "output_type": "execute_result"
    }
   ],
   "source": [
    "y_train"
   ]
  },
  {
   "cell_type": "code",
   "execution_count": 9,
   "metadata": {},
   "outputs": [],
   "source": [
    "BATCH_SIZE=X_train.shape[0]\n",
    "\n",
    "train_dataset = torch.utils.data.TensorDataset(X_train, y_train)\n",
    "train_loader = torch.utils.data.DataLoader(train_dataset, batch_size=BATCH_SIZE, shuffle=True)\n",
    "\n",
    "valid_dataset = torch.utils.data.TensorDataset(X_valid, y_valid)\n",
    "valid_loader = torch.utils.data.DataLoader(valid_dataset, batch_size=BATCH_SIZE, shuffle=False)"
   ]
  },
  {
   "cell_type": "markdown",
   "metadata": {},
   "source": [
    "## Model"
   ]
  },
  {
   "cell_type": "code",
   "execution_count": 10,
   "metadata": {},
   "outputs": [],
   "source": [
    "class MyModel(torch.nn.Module):\n",
    "\n",
    "    def __init__(self):\n",
    "        super(MyModel, self).__init__()\n",
    "        self.linear1 = torch.nn.Linear(11,64)\n",
    "        self.activation1 = torch.nn.ReLU()\n",
    "        self.linear2 = torch.nn.Linear(64, 32)\n",
    "        self.activation2 = torch.nn.ReLU()\n",
    "        self.linear3 = torch.nn.Linear(32, 1)\n",
    "        self.sigmoid = torch.nn.Sigmoid()\n",
    "    def forward(self, x):\n",
    "        x = self.linear1(x)\n",
    "        x = self.activation1(x)\n",
    "        x = self.linear2(x)\n",
    "        x = self.activation2(x)\n",
    "        x = self.linear3(x)\n",
    "        x = self.sigmoid(x)\n",
    "\n",
    "\n",
    "        return x.squeeze()\n",
    "\n",
    "mymodel = MyModel()"
   ]
  },
  {
   "cell_type": "code",
   "execution_count": 11,
   "metadata": {},
   "outputs": [
    {
     "name": "stdout",
     "output_type": "stream",
     "text": [
      "MyModel(\n",
      "  (linear1): Linear(in_features=11, out_features=64, bias=True)\n",
      "  (activation1): ReLU()\n",
      "  (linear2): Linear(in_features=64, out_features=32, bias=True)\n",
      "  (activation2): ReLU()\n",
      "  (linear3): Linear(in_features=32, out_features=1, bias=True)\n",
      "  (sigmoid): Sigmoid()\n",
      ")\n"
     ]
    }
   ],
   "source": [
    "print(mymodel)"
   ]
  },
  {
   "cell_type": "code",
   "execution_count": 12,
   "metadata": {},
   "outputs": [
    {
     "name": "stdout",
     "output_type": "stream",
     "text": [
      "\n",
      "\n",
      "Linear Layer 2 params:\n",
      "Parameter containing:\n",
      "tensor([[-0.0854, -0.0013,  0.0696,  ...,  0.0309, -0.0683, -0.0238],\n",
      "        [ 0.0194,  0.1157,  0.0575,  ...,  0.0964,  0.0159,  0.1011],\n",
      "        [ 0.0963,  0.0134,  0.0944,  ..., -0.0767, -0.0391, -0.0846],\n",
      "        ...,\n",
      "        [-0.1115, -0.0321, -0.1077,  ..., -0.0455,  0.1217, -0.1097],\n",
      "        [-0.0030,  0.0893,  0.0678,  ...,  0.0420,  0.0673,  0.0738],\n",
      "        [ 0.0461, -0.0953,  0.0909,  ..., -0.0136,  0.0029, -0.0229]],\n",
      "       requires_grad=True)\n",
      "Parameter containing:\n",
      "tensor([ 0.0766,  0.0599, -0.0822, -0.0949, -0.0895, -0.0508, -0.1054, -0.0789,\n",
      "        -0.0835, -0.0847,  0.0126, -0.1110, -0.0983, -0.0922, -0.0248, -0.0380,\n",
      "        -0.0926, -0.1159,  0.0579,  0.0779,  0.0606, -0.0059, -0.0106,  0.0667,\n",
      "         0.0515, -0.0179,  0.0049, -0.0129,  0.0417,  0.0632,  0.0280,  0.0559],\n",
      "       requires_grad=True)\n"
     ]
    }
   ],
   "source": [
    "print('\\n\\nLinear Layer 2 params:')\n",
    "for param in mymodel.linear2.parameters():\n",
    "    print(param)"
   ]
  },
  {
   "cell_type": "markdown",
   "metadata": {},
   "source": [
    "In PyTorch, the nn.Linear module's weights are initialized by default using a method \"He initialization."
   ]
  },
  {
   "cell_type": "code",
   "execution_count": 13,
   "metadata": {},
   "outputs": [
    {
     "name": "stdout",
     "output_type": "stream",
     "text": [
      "Epoch 0: train_loss = 0.67781001329422, valid_loss= 1.8832286596298218, accuracy= 49.6875\n",
      "Epoch 100: train_loss = 0.633318305015564, valid_loss= 0.639651894569397, accuracy= 65.3125\n",
      "Epoch 200: train_loss = 0.6459471583366394, valid_loss= 0.6407104730606079, accuracy= 62.5\n",
      "Epoch 300: train_loss = 0.6215814352035522, valid_loss= 0.6292805075645447, accuracy= 63.125\n",
      "Epoch 400: train_loss = 0.6101526618003845, valid_loss= 0.6244493722915649, accuracy= 64.0625\n",
      "Epoch 500: train_loss = 0.6104917526245117, valid_loss= 0.6307068467140198, accuracy= 64.6875\n",
      "Epoch 600: train_loss = 0.65523362159729, valid_loss= 0.6433743238449097, accuracy= 63.74999999999999\n",
      "Epoch 700: train_loss = 0.6042251586914062, valid_loss= 0.6228393316268921, accuracy= 65.3125\n",
      "Epoch 800: train_loss = 0.6315107345581055, valid_loss= 0.6375805139541626, accuracy= 65.0\n",
      "Epoch 900: train_loss = 1.045204997062683, valid_loss= 0.6635400056838989, accuracy= 60.3125\n",
      "Epoch 1000: train_loss = 0.6053005456924438, valid_loss= 0.6314742565155029, accuracy= 62.5\n"
     ]
    }
   ],
   "source": [
    "NUM_EPOCH = 1001\n",
    "\n",
    "loss_fn = nn.BCELoss()\n",
    "optimizer = torch.optim.SGD(mymodel.parameters(), lr=0.1)\n",
    "\n",
    "train_loss_list = []\n",
    "valid_loss_list = []\n",
    "accuracy_list = []\n",
    "\n",
    "min_valid_loss = np.inf\n",
    "\n",
    "for epoch in range(NUM_EPOCH):\n",
    "    train_loss = 0.0\n",
    "    mymodel.train()\n",
    "    for inputs, labels in train_loader:\n",
    "        optimizer.zero_grad()\n",
    "        pred = mymodel(inputs)\n",
    "\n",
    "        loss = loss_fn(pred,labels)\n",
    "        loss.backward()\n",
    "        optimizer.step()\n",
    "        train_loss += loss.item()\n",
    "    \n",
    "    train_loss_list.append(train_loss/len(train_loader))\n",
    "\n",
    "    mymodel.eval()\n",
    "    valid_loss, correct = 0, 0\n",
    "    size = len(valid_loader.dataset)\n",
    "    with torch.no_grad():\n",
    "        for inputs, labels in valid_loader:\n",
    "            pred = mymodel(inputs)\n",
    "            loss = loss_fn(pred,labels)\n",
    "            valid_loss += loss.item()\n",
    "            binary_pred = (pred >= 0.5).float()\n",
    "            correct += (binary_pred==labels).sum().item()\n",
    "        correct /= size\n",
    "        valid_loss/=len(valid_loader)\n",
    "        accuracy_list.append(correct)\n",
    "        valid_loss_list.append(valid_loss)\n",
    "\n",
    "\n",
    "    if epoch % 100 == 0:\n",
    "        print(f\"Epoch {epoch}: train_loss = {train_loss_list[epoch]}, valid_loss= {valid_loss_list[epoch]}, accuracy= {correct*100}\")\n",
    "\n",
    "   \n",
    "    \n"
   ]
  },
  {
   "cell_type": "code",
   "execution_count": 14,
   "metadata": {},
   "outputs": [
    {
     "data": {
      "text/plain": [
       "<Axes: >"
      ]
     },
     "execution_count": 14,
     "metadata": {},
     "output_type": "execute_result"
    },
    {
     "data": {
      "image/png": "[encoded data removed]",
      "text/plain": [
       "<Figure size 640x480 with 1 Axes>"
      ]
     },
     "metadata": {},
     "output_type": "display_data"
    }
   ],
   "source": [
    "sns.lineplot(train_loss_list)\n",
    "sns.lineplot(valid_loss_list)"
   ]
  },
  {
   "cell_type": "markdown",
   "metadata": {},
   "source": [
    "Lets try to improve model "
   ]
  },
  {
   "cell_type": "code",
   "execution_count": 15,
   "metadata": {},
   "outputs": [],
   "source": [
    "class MyModel2(torch.nn.Module):\n",
    "    def __init__(self):\n",
    "        super(MyModel2, self).__init__()\n",
    "        self.linear_relu_stack = nn.Sequential(\n",
    "            nn.Linear(11, 512),\n",
    "            nn.LayerNorm(512),\n",
    "            nn.SiLU(),\n",
    "            nn.Dropout(0.5),\n",
    "            nn.Linear(512, 256),\n",
    "            nn.LayerNorm(256),\n",
    "            nn.SiLU(),\n",
    "            nn.Dropout(0.5),\n",
    "            nn.Linear(256, 64),\n",
    "            nn.LayerNorm(64),\n",
    "            nn.SiLU(),\n",
    "            nn.Dropout(0.5),\n",
    "            nn.Linear(64, 1),\n",
    "        )\n",
    "        self.sigmoid = torch.nn.Sigmoid()\n",
    "    def forward(self, x):\n",
    "        x = self.linear_relu_stack(x)\n",
    "        x = self.sigmoid(x)\n",
    "        return x.squeeze()\n",
    "\n",
    "model2 = MyModel2()\n"
   ]
  },
  {
   "cell_type": "code",
   "execution_count": 16,
   "metadata": {},
   "outputs": [
    {
     "name": "stdout",
     "output_type": "stream",
     "text": [
      "Epoch 0: train_loss = 0.7294624447822571, valid_loss= 0.6994589567184448, accuracy= 50.31250000000001\n",
      "Epoch 100: train_loss = 0.655579149723053, valid_loss= 0.6459216475486755, accuracy= 63.125\n",
      "Epoch 200: train_loss = 0.6434636116027832, valid_loss= 0.6461831331253052, accuracy= 62.5\n",
      "Epoch 300: train_loss = 0.6484366655349731, valid_loss= 0.6465293765068054, accuracy= 62.5\n",
      "Epoch 400: train_loss = 0.6484367251396179, valid_loss= 0.6446055173873901, accuracy= 63.74999999999999\n",
      "Epoch 500: train_loss = 0.64510577917099, valid_loss= 0.6430095434188843, accuracy= 63.74999999999999\n",
      "Epoch 600: train_loss = 0.6345774531364441, valid_loss= 0.6410872340202332, accuracy= 63.74999999999999\n",
      "Epoch 700: train_loss = 0.6418956518173218, valid_loss= 0.6395497918128967, accuracy= 63.74999999999999\n",
      "Epoch 800: train_loss = 0.6400055885314941, valid_loss= 0.634384036064148, accuracy= 64.0625\n",
      "Epoch 900: train_loss = 0.6350857019424438, valid_loss= 0.6310323476791382, accuracy= 63.74999999999999\n",
      "Epoch 1000: train_loss = 0.6391444802284241, valid_loss= 0.6199002861976624, accuracy= 65.9375\n",
      "Epoch 1100: train_loss = 0.6255279779434204, valid_loss= 0.6052287220954895, accuracy= 67.1875\n",
      "Epoch 1200: train_loss = 0.6063758134841919, valid_loss= 0.5819240808486938, accuracy= 68.4375\n",
      "Epoch 1300: train_loss = 0.6046344041824341, valid_loss= 0.5625141263008118, accuracy= 70.3125\n",
      "Epoch 1400: train_loss = 0.5855462551116943, valid_loss= 0.5561181306838989, accuracy= 70.625\n",
      "Epoch 1500: train_loss = 0.5954566597938538, valid_loss= 0.6227701306343079, accuracy= 63.125\n",
      "Epoch 1600: train_loss = 0.6685258746147156, valid_loss= 0.5520438551902771, accuracy= 72.8125\n",
      "Epoch 1700: train_loss = 0.5658278465270996, valid_loss= 0.5460648536682129, accuracy= 71.875\n",
      "Epoch 1800: train_loss = 0.5814304351806641, valid_loss= 0.568240225315094, accuracy= 68.125\n",
      "Epoch 1900: train_loss = 0.5840440988540649, valid_loss= 0.5758708715438843, accuracy= 68.125\n",
      "Epoch 2000: train_loss = 0.5733132362365723, valid_loss= 0.5538986921310425, accuracy= 70.9375\n"
     ]
    }
   ],
   "source": [
    "NUM_EPOCH = 2001\n",
    "\n",
    "loss_fn = nn.BCELoss()\n",
    "optimizer = torch.optim.SGD(model2.parameters(), lr=0.1, momentum=0.7)\n",
    "\n",
    "train_loss_list = []\n",
    "valid_loss_list = []\n",
    "accuracy_list = []\n",
    "\n",
    "min_valid_loss = np.inf\n",
    "\n",
    "for epoch in range(NUM_EPOCH):\n",
    "    train_loss = 0.0\n",
    "    model2.train()\n",
    "    for inputs, labels in train_loader:\n",
    "        optimizer.zero_grad()\n",
    "        pred = model2(inputs)\n",
    "\n",
    "        loss = loss_fn(pred,labels)\n",
    "        loss.backward()\n",
    "        optimizer.step()\n",
    "        train_loss += loss.item()\n",
    "    \n",
    "    train_loss_list.append(train_loss/len(train_loader))\n",
    "\n",
    "    model2.eval()\n",
    "    valid_loss, correct = 0, 0\n",
    "    size = len(valid_loader.dataset)\n",
    "    with torch.no_grad():\n",
    "        for inputs, labels in valid_loader:\n",
    "            pred = model2(inputs)\n",
    "            loss = loss_fn(pred,labels)\n",
    "            valid_loss += loss.item()\n",
    "            binary_pred = (pred >= 0.5).float()\n",
    "            correct += (binary_pred==labels).sum().item()\n",
    "\n",
    "        correct /= size\n",
    "        valid_loss/=len(valid_loader)\n",
    "\n",
    "        accuracy_list.append(correct)\n",
    "        valid_loss_list.append(valid_loss)\n",
    "\n",
    "        if valid_loss < min_valid_loss:\n",
    "            min_valid_loss = valid_loss\n",
    "            best_model = model2\n",
    "            torch.save(model2, 'model/best-model.pt')\n",
    "            torch.save(model2.state_dict(), 'model/best-model-parameters.pt')\n",
    "    if epoch % 100 == 0:\n",
    "        print(f\"Epoch {epoch}: train_loss = {train_loss_list[epoch]}, valid_loss= {valid_loss_list[epoch]}, accuracy= {correct*100}\")\n",
    "\n"
   ]
  },
  {
   "cell_type": "code",
   "execution_count": 17,
   "metadata": {},
   "outputs": [
    {
     "data": {
      "text/plain": [
       "<matplotlib.legend.Legend at 0x28da662b230>"
      ]
     },
     "execution_count": 17,
     "metadata": {},
     "output_type": "execute_result"
    },
    {
     "data": {
      "image/png": "[encoded data removed]",
      "text/plain": [
       "<Figure size 640x480 with 1 Axes>"
      ]
     },
     "metadata": {},
     "output_type": "display_data"
    }
   ],
   "source": [
    "sns.lineplot(train_loss_list, label=\"train\")\n",
    "sns.lineplot(valid_loss_list, label=\"valid\")\n",
    "plt.legend()"
   ]
  },
  {
   "cell_type": "code",
   "execution_count": 18,
   "metadata": {},
   "outputs": [
    {
     "name": "stdout",
     "output_type": "stream",
     "text": [
      "Accuracy: 0.731249988079071, f1_score: 0.7074829936027527\n"
     ]
    }
   ],
   "source": [
    "from torchmetrics.classification import BinaryAccuracy, BinaryF1Score\n",
    "\n",
    "best_model = MyModel2()\n",
    "best_model.load_state_dict(torch.load('model/best-model-parameters.pt'))\n",
    "best_model.eval()\n",
    "with torch.no_grad():\n",
    "    pred = best_model(X_valid)\n",
    "\n",
    "# Convert pred to a float tensor\n",
    "pred = (pred > 0.5).to(torch.float)\n",
    "\n",
    "# Calculate accuracy\n",
    "accuracy = BinaryAccuracy()\n",
    "f1_score = BinaryF1Score()\n",
    "print(f\"Accuracy: {accuracy(pred, y_valid)}, f1_score: {f1_score(pred, y_valid)}\")"
   ]
  },
  {
   "cell_type": "markdown",
   "metadata": {},
   "source": [
    "**Conclusions**: My model achieved an accuracy of 73,12%, wich is not so good. Maybe we need more data or more comlexity model. Compared to ml algorithms for this dataset, my model gives almost the same results"
   ]
  }
 ],
 "metadata": {
  "kernelspec": {
   "display_name": "Python 3",
   "language": "python",
   "name": "python3"
  },
  "language_info": {
   "codemirror_mode": {
    "name": "ipython",
    "version": 3
   },
   "file_extension": ".py",
   "mimetype": "text/x-python",
   "name": "python",
   "nbconvert_exporter": "python",
   "pygments_lexer": "ipython3",
   "version": "3.12.0"
  }
 },
 "nbformat": 4,
 "nbformat_minor": 2
}
